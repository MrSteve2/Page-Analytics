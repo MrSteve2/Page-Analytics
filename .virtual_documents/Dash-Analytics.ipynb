from dash import jupyter_dash
import plotly.express as px

import pandas as pd

jupyter_dash.default_mode="external"


daily_df = pd.read_csv('web_analytics_data_2024-01-01_to_2025-07-31.csv')
daily_df['date'] = pd.to_datetime(daily_df['date'])
# daily_df = daily_df.set_index('date')


data_transforms = 
# NOTE: Always create copies when doing transformations
weekly_df = daily_df.copy().set_index('date').resample('W').agg({
    'page_visits': 'sum',
    'unique_visitors': 'sum',
    'return_visitors': 'sum',
    'url': 'first',
    'marketing_segment': 'first'
}).reset_index()

# Sample at ME - Month End
monthly_df = daily_df.copy().set_index('date').resample('ME').agg({
    'page_visits': 'sum',
    'unique_visitors': 'sum',
    'return_visitors': 'sum',
    'url': 'first',
    'marketing_segment': 'first'
}).reset_index()







weekly_df.head()


df.dtypes


fig_marketing_segment = px.line(df, x="date", y="page_visits",  facet_row="marketing_segment")


def create_visits_line_graph(df, timeframe='monthly'):
    """
    Function to create a line graph of visits over time with aggregation options
    
    Args:
        df (pandas.DataFrame): DataFrame containing date and visits data
        timeframe (str): Aggregation timeframe - 'daily', 'weekly', or 'monthly'
    
    Returns:
        plotly.graph_objects.Figure: Line graph figure
    """
    # Try to identify date and visits columns automatically
    date_columns = [col for col in df.columns if any(keyword in col.lower() 
                   for keyword in ['date', 'time', 'day', 'month', 'year'])]
    
    visits_columns = [col for col in df.columns if any(keyword in col.lower() 
                     for keyword in ['visit', 'traffic', 'view', 'session', 'user', 'count'])]
    
    # Use the first matching columns, or fallback to first two columns
    date_col = date_columns[0] if date_columns else df.columns[0]
    visits_col = visits_columns[0] if visits_columns else df.columns[1]
    
    # Create a copy to avoid modifying original dataframe
    df_copy = df.copy()
    
    # Ensure date column is datetime
    df_copy[date_col] = pd.to_datetime(df_copy[date_col])
    
    # Ensure visits column is numeric (convert strings to numbers)
    df_copy[visits_col] = pd.to_numeric(df_copy[visits_col], errors='coerce')
    
    # Sort by date
    df_copy = df_copy.sort_values(date_col)
    
    # Aggregate data based on timeframe
    if timeframe.lower() == 'weekly':
        # Group by week (Monday as start of week)
        df_copy['period'] = df_copy[date_col].dt.to_period('W-MON')
        df_aggregated = df_copy.groupby('period')[visits_col].sum().reset_index()
        df_aggregated['date'] = df_aggregated['period'].dt.start_time
        title_suffix = ' (Weekly Aggregation)'
        xaxis_title = 'Week Starting'
        
    elif timeframe.lower() == 'monthly':
        # Group by month
        df_copy['period'] = df_copy[date_col].dt.to_period('M')
        df_aggregated = df_copy.groupby('period')[visits_col].sum().reset_index()
        df_aggregated['date'] = df_aggregated['period'].dt.start_time
        title_suffix = ' (Monthly Aggregation)'
        xaxis_title = 'Month'
        
    else:  # daily (default)
        # Use daily data as-is, but still group in case there are multiple entries per day
        df_copy['period'] = df_copy[date_col].dt.date
        df_aggregated = df_copy.groupby('period')[visits_col].sum().reset_index()
        df_aggregated['date'] = pd.to_datetime(df_aggregated['period'])
        title_suffix = ' (Daily)'
        xaxis_title = 'Date'
    
    # Create the line graph
    fig = go.Figure()
    
    fig.add_trace(go.Scatter(
        x=df_aggregated['date'],
        y=df_aggregated[visits_col],
        mode='lines+markers',
        name='Visits',
        line=dict(color='#1f77b4', width=2),
        marker=dict(size=6, color='#1f77b4'),
        hovertemplate='<b>Date:</b> %{x}<br><b>Visits:</b> %{y:,.0f}<extra></extra>'
    ))
    
    fig.update_layout(
        title={
            'text': f'Website Visits Over Time{title_suffix}',
            'x': 0.5,
            'xanchor': 'center',
            'font': {'size': 20}
        },
        xaxis_title=xaxis_title,
        yaxis_title='Number of Visits',
        hovermode='x unified',
        template='plotly_white',
        height=500,
        margin=dict(l=60, r=40, t=80, b=60)
    )
    
    # Format y-axis to show comma-separated numbers
    fig.update_yaxes(tickformat=',')
    
    return fig


import dash
from dash import dcc, html, callback
from dash.dependencies import Input, Output
import plotly.graph_objects as go
import pandas as pd
import os

# Initialize the Dash app
app = dash.Dash(__name__)



# Load the data directly
df = pd.read_csv('web_analytics_data_2024-01-01_to_2025-07-31.csv')
data_df = df
data_source = 'web_analytics_data_2024-01-01_to_2025-07-31.csv'

# Ensure the visits column is numeric for calculations
visits_col_index = 1
if len(data_df.columns) > 1:
    data_df.iloc[:, visits_col_index] = pd.to_numeric(data_df.iloc[:, visits_col_index], errors='coerce')

# Create the app layout
app.layout = html.Div([
    html.Div([
        html.H1(
            "Website Traffic Dashboard", 
            style={
                'textAlign': 'center',
                'marginBottom': '30px',
                'color': '#2c3e50',
                'fontFamily': 'Arial, sans-serif'
            }
        ),
        
        html.P(
            f"Data source: {data_source}",
            style={
                'textAlign': 'center',
                'color': '#7f8c8d',
                'fontSize': '14px',
                'marginBottom': '20px'
            }
        ),
        
        # Line graph component
        dcc.Graph(
            id='visits-line-graph-daily',
            figure=create_visits_line_graph(data_df, "daily"),
            style={'marginBottom': '20px'}
        ),

        # Line graph component
        dcc.Graph(
            id='visits-line-graph-weekly',
            figure=create_visits_line_graph(data_df, "weekly"),
            style={'marginBottom': '20px'}
        ),

        # Line graph component
        dcc.Graph(
            id='visits-line-graph-monthly',
            figure=create_visits_line_graph(data_df, "monthly"),
            style={'marginBottom': '20px'}
        ),

        # Marketing Segmentes
        dcc.Graph(
            id='visits-line-graph-market-segments',
            figure=px.line(df, x="date", y="page_visits",  facet_col="marketing_segment", facet_col_wrap=4),
            style={'marginBottom': '20px'}
        ),

        
        
    ], style={
        'maxWidth': '1200px',
        'margin': '0 auto',
        'padding': '20px',
        'fontFamily': 'Arial, sans-serif'
    })
])

# Run the app
if __name__ == '__main__':
    app.run_server(jupyter_mode="tab", port=8058)



